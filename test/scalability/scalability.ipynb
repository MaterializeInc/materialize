{
 "cells": [
  {
   "cell_type": "code",
   "execution_count": null,
   "id": "eabe7c72-a929-4ceb-abe3-e9bb054f4b88",
   "metadata": {},
   "outputs": [],
   "source": [
    "# Copyright Materialize, Inc. and contributors. All rights reserved.\n",
    "#\n",
    "# Use of this software is governed by the Business Source License\n",
    "# included in the LICENSE file at the root of this repository.\n",
    "#\n",
    "# As of the Change Date specified in that file, in accordance with\n",
    "# the Business Source License, use of this software will be governed\n",
    "# by the Apache License, Version 2.0.\n",
    "\n",
    "import pandas as pd\n",
    "from ipywidgets import widgets, interactive\n",
    "from lib import plotit\n",
    "\n",
    "workloads = pd.read_csv(\"results/workloads.csv\")\n",
    "\n",
    "workload_name = widgets.Dropdown(\n",
    "    options=list(workloads[\"workload\"]),\n",
    "    description=\"Workload:\",\n",
    ")\n",
    "include_zero_in_y_axis = widgets.Checkbox(\n",
    "    value=True,\n",
    "    description=\"Include zero in y-axis\",\n",
    ")\n",
    "interactive(\n",
    "    plotit, workload_name=workload_name, include_zero_in_y_axis=include_zero_in_y_axis\n",
    ")"
   ]
  }
 ],
 "metadata": {
  "kernelspec": {
   "display_name": "Python 3 (ipykernel)",
   "language": "python",
   "name": "python3"
  },
  "language_info": {
   "codemirror_mode": {
    "name": "ipython",
    "version": 3
   },
   "file_extension": ".py",
   "mimetype": "text/x-python",
   "name": "python",
   "nbconvert_exporter": "python",
   "pygments_lexer": "ipython3",
   "version": "3.11.6"
  }
 },
 "nbformat": 4,
 "nbformat_minor": 5
}
