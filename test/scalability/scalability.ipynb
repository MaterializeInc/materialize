{
 "cells": [
  {
   "cell_type": "code",
   "execution_count": 1,
   "id": "eabe7c72-a929-4ceb-abe3-e9bb054f4b88",
   "metadata": {
    "jupyter": {
     "source_hidden": true
    }
   },
   "outputs": [
    {
     "data": {
      "application/vnd.jupyter.widget-view+json": {
       "model_id": "34b7824d333647b19efd9cd5fc31ab79",
       "version_major": 2,
       "version_minor": 0
      },
      "text/plain": [
       "interactive(children=(Dropdown(description='CSV File:', options=('SelectOneWorkload',), value='SelectOneWorklo…"
      ]
     },
     "execution_count": 1,
     "metadata": {},
     "output_type": "execute_result"
    }
   ],
   "source": [
    "# Copyright Materialize, Inc. and contributors. All rights reserved.\n",
    "#\n",
    "# Use of this software is governed by the Business Source License\n",
    "# included in the LICENSE file at the root of this repository.\n",
    "#\n",
    "# As of the Change Date specified in that file, in accordance with\n",
    "# the Business Source License, use of this software will be governed\n",
    "# by the Apache License, Version 2.0.\n",
    "\n",
    "import pandas as pd\n",
    "from IPython.display import Javascript, display, clear_output\n",
    "from ipywidgets import widgets, interactive\n",
    "import ipywidgets as widgets\n",
    "\n",
    "workloads = pd.read_csv(\"results/workloads.csv\")\n",
    "\n",
    "\n",
    "def plotit(csv_file_name):\n",
    "    df = pd.read_csv(f\"results/{csv_file_name}.csv\")\n",
    "    df.plot.scatter(x=\"concurrency\", y=\"tps\")\n",
    "\n",
    "    df_details = pd.read_csv(f\"results/{csv_file_name}_details.csv\")\n",
    "    df_details.plot.scatter(x=\"concurrency\", y=\"wallclock\", size=0.5)\n",
    "\n",
    "    df_tps = df_details.groupby(\"concurrency\").sum(\"wallclock\").reset_index()\n",
    "    df_tps[\"tps\"] = 2048 / (df_tps[\"wallclock\"] / df_tps[\"concurrency\"])\n",
    "    df_tps.plot(\"concurrency\", \"tps\")\n",
    "\n",
    "\n",
    "csv_file_name = widgets.Dropdown(\n",
    "    options=list(workloads[\"workload\"]),\n",
    "    description=\"CSV File:\",\n",
    ")\n",
    "interactive(plotit, csv_file_name=csv_file_name)"
   ]
  }
 ],
 "metadata": {
  "kernelspec": {
   "display_name": "Python 3 (ipykernel)",
   "language": "python",
   "name": "python3"
  },
  "language_info": {
   "codemirror_mode": {
    "name": "ipython",
    "version": 3
   },
   "file_extension": ".py",
   "mimetype": "text/x-python",
   "name": "python",
   "nbconvert_exporter": "python",
   "pygments_lexer": "ipython3",
   "version": "3.10.10"
  }
 },
 "nbformat": 4,
 "nbformat_minor": 5
}
